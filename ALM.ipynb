{
 "cells": [
  {
   "cell_type": "code",
   "execution_count": 1,
   "metadata": {},
   "outputs": [],
   "source": [
    "import pandas as pd\n",
    "import numpy as np"
   ]
  },
  {
   "cell_type": "code",
   "execution_count": 2,
   "metadata": {},
   "outputs": [],
   "source": [
    "#optimization\n",
    "from scipy.optimize import linprog\n",
    "\n",
    "#objective function\n",
    "obj = [109,94.8,99.5,93.1,97.2,92.9,110,104,102,95.2,0,0,0,0,0,0]\n"
   ]
  },
  {
   "cell_type": "code",
   "execution_count": 9,
   "metadata": {},
   "outputs": [],
   "source": [
    "lhs = [\n",
    "    [10,7,8,6,7,5,10,8,7,100,-1,0,0,0,0,0],\n",
    "    [10,7,8,6,7,5,10,8,107,0,1,-1,0,0,0,0],\n",
    "    [10,7,8,6,7,5,110,108,0,0,0,1,-1,0,0,0],\n",
    "    [10,7,8,6,7,105,0,0,0,0,0,0,1,-1,0,0],\n",
    "    [10,7,8,106,107,0,0,0,0,0,0,0,0,1,-1,0],\n",
    "    [110,107,108,0,0,0,0,0,0,0,0,0,0,0,1,-1]\n",
    "]\n",
    "\n",
    "rhs = [500,1200,2800,2000,1800,2000]"
   ]
  },
  {
   "cell_type": "code",
   "execution_count": 10,
   "metadata": {},
   "outputs": [],
   "source": [
    "bounds = [(0, float(\"inf\")) for x in range(len(obj))]"
   ]
  },
  {
   "cell_type": "code",
   "execution_count": 11,
   "metadata": {},
   "outputs": [
    {
     "name": "stderr",
     "output_type": "stream",
     "text": [
      "/var/folders/lb/0m026lrj26q5pny7ykr4lj9m0000gn/T/ipykernel_25362/3533551837.py:1: DeprecationWarning: `method='simplex'` is deprecated and will be removed in SciPy 1.11.0. Please use one of the HiGHS solvers (e.g. `method='highs'`) in new code.\n",
      "  opt = linprog(c=obj,\n"
     ]
    }
   ],
   "source": [
    "opt = linprog(c=obj,\n",
    "               A_eq=lhs, b_eq=rhs, bounds=bounds,\n",
    "               method=\"simplex\")"
   ]
  },
  {
   "cell_type": "code",
   "execution_count": 12,
   "metadata": {},
   "outputs": [
    {
     "data": {
      "text/plain": [
       "array([ 0.        , 18.69158879,  0.        , 15.74678187,  0.        ,\n",
       "       16.90169702,  0.        , 23.05712687,  6.24057346,  0.        ,\n",
       "       37.97132703,  0.        ,  0.        ,  0.        ,  0.        ,\n",
       "        0.        ])"
      ]
     },
     "execution_count": 12,
     "metadata": {},
     "output_type": "execute_result"
    }
   ],
   "source": [
    "opt.x"
   ]
  }
 ],
 "metadata": {
  "kernelspec": {
   "display_name": "Python 3",
   "language": "python",
   "name": "python3"
  },
  "language_info": {
   "codemirror_mode": {
    "name": "ipython",
    "version": 3
   },
   "file_extension": ".py",
   "mimetype": "text/x-python",
   "name": "python",
   "nbconvert_exporter": "python",
   "pygments_lexer": "ipython3",
   "version": "3.8.9"
  },
  "orig_nbformat": 4
 },
 "nbformat": 4,
 "nbformat_minor": 2
}
